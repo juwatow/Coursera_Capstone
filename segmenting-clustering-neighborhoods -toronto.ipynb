{
    "nbformat_minor": 1, 
    "cells": [
        {
            "source": "<h1 style=\"text-align: center;\">IBM Data Science Professional Certificate - Capstone</h1>\n<p>This notebook will be used for the capstone project part of the IBM Data Science Professional Certificate from Coursera. <a href=\"https://www.coursera.org/professional-certificates/ibm-data-science\">View details</a></p>\n<h2>Part I: Segmenting and Clustering Neighborhoods in Toronto</h2>", 
            "cell_type": "markdown", 
            "metadata": {
                "collapsed": true
            }
        }, 
        {
            "source": "<p>In Part I of the project, we will be exploring, segmenting, and clustering the neighborhoods in the city of Toronto (Canada). For our dataset, a <a href=\"https://en.wikipedia.org/wiki/List_of_postal_codes_of_Canada:_M\">Wikipedia page</a> exists that has all the information we need to explore and cluster the neighborhoods in Toronto. We will scrape that page in order to obtain the information that is in the table of postal codes and wrangle the data, clean it, and then read it into a pandas dataframe with 3 columns: PostalCode, Borough and Neighborhood so that it is in a structured format.</p>\n\n<p>Once the data is in a structured format, we will conduct an analysis to explore and cluster the neighborhoods in the city of Toronto. Specifically:\n    <ul>\n        <li>We will convert postalcodes into their equivalent latitude and longitude values.</li>\n        <li>We will use the Foursquare API to explore neighborhoods in Toronto: We will use the explore function to get the most common venue categories in each neighborhood</li>\n        <li>We will then use the most common venue categories feature to group the neighborhoods into clusters. We will use the k-means clustering algorithm to complete this task</li>\n        <li>Finally, we will use the Folium library to visualize the neighborhoods in Toronto and their emerging clusters.</li>\n    </ul>\n</p>", 
            "cell_type": "markdown", 
            "metadata": {}
        }, 
        {
            "source": "Before we get the data and start exploring it, let's download all the dependencies that we will need.", 
            "cell_type": "markdown", 
            "metadata": {}
        }, 
        {
            "execution_count": 8, 
            "cell_type": "code", 
            "metadata": {}, 
            "outputs": [
                {
                    "output_type": "stream", 
                    "name": "stdout", 
                    "text": "Libraries imported.\n"
                }
            ], 
            "source": "import numpy as np # library to handle data in a vectorized manner\n\nimport pandas as pd # library for data analsysis\npd.set_option('display.max_columns', None)\npd.set_option('display.max_rows', None)\n\nimport json # library to handle JSON files\n\n#!conda install -c conda-forge geopy --yes # uncomment this line if you haven't downloaded the package\nfrom geopy.geocoders import Nominatim # convert an address into latitude and longitude values\n\nimport requests # library to handle requests\nfrom pandas.io.json import json_normalize # tranform JSON file into a pandas dataframe\n\n# Matplotlib and associated plotting modules\nimport matplotlib.cm as cm\nimport matplotlib.colors as colors\n\n# import k-means from clustering stage\nfrom sklearn.cluster import KMeans\n\n#!conda install -c conda-forge folium=0.5.0 --yes # uncomment this line if you haven't downloaded the package\nimport folium # map rendering library\n\nprint('Libraries imported.')"
        }, 
        {
            "source": "### 1. Web Scraping Wikipedia page and building of the dataset", 
            "cell_type": "markdown", 
            "metadata": {}
        }, 
        {
            "source": "#### Scrape the Wikipedia page and tranform the data into a pandas dataframe", 
            "cell_type": "markdown", 
            "metadata": {}
        }, 
        {
            "execution_count": 9, 
            "cell_type": "code", 
            "metadata": {}, 
            "outputs": [
                {
                    "execution_count": 9, 
                    "metadata": {}, 
                    "data": {
                        "text/plain": "(288, 3)"
                    }, 
                    "output_type": "execute_result"
                }
            ], 
            "source": "url='https://en.wikipedia.org/wiki/List_of_postal_codes_of_Canada:_M'\ndf_list = pd.read_html(url)\n# our dataset is the first table\ndf_toronto = df_list[0]\ndf_toronto.shape\n#df_toronto.head()"
        }, 
        {
            "source": "#### Rename Postcode->PostalCode and Neighbourhood->Neighborhood", 
            "cell_type": "markdown", 
            "metadata": {}
        }, 
        {
            "execution_count": 10, 
            "cell_type": "code", 
            "metadata": {}, 
            "outputs": [
                {
                    "execution_count": 10, 
                    "metadata": {}, 
                    "data": {
                        "text/html": "<div>\n<style scoped>\n    .dataframe tbody tr th:only-of-type {\n        vertical-align: middle;\n    }\n\n    .dataframe tbody tr th {\n        vertical-align: top;\n    }\n\n    .dataframe thead th {\n        text-align: right;\n    }\n</style>\n<table border=\"1\" class=\"dataframe\">\n  <thead>\n    <tr style=\"text-align: right;\">\n      <th></th>\n      <th>PostalCode</th>\n      <th>Borough</th>\n      <th>Neighborhood</th>\n    </tr>\n  </thead>\n  <tbody>\n    <tr>\n      <th>0</th>\n      <td>M1A</td>\n      <td>Not assigned</td>\n      <td>Not assigned</td>\n    </tr>\n    <tr>\n      <th>1</th>\n      <td>M2A</td>\n      <td>Not assigned</td>\n      <td>Not assigned</td>\n    </tr>\n    <tr>\n      <th>2</th>\n      <td>M3A</td>\n      <td>North York</td>\n      <td>Parkwoods</td>\n    </tr>\n    <tr>\n      <th>3</th>\n      <td>M4A</td>\n      <td>North York</td>\n      <td>Victoria Village</td>\n    </tr>\n    <tr>\n      <th>4</th>\n      <td>M5A</td>\n      <td>Downtown Toronto</td>\n      <td>Harbourfront</td>\n    </tr>\n  </tbody>\n</table>\n</div>", 
                        "text/plain": "  PostalCode           Borough      Neighborhood\n0        M1A      Not assigned      Not assigned\n1        M2A      Not assigned      Not assigned\n2        M3A        North York         Parkwoods\n3        M4A        North York  Victoria Village\n4        M5A  Downtown Toronto      Harbourfront"
                    }, 
                    "output_type": "execute_result"
                }
            ], 
            "source": "df_toronto.columns = ['PostalCode','Borough','Neighborhood']\ndf_toronto.head()"
        }, 
        {
            "source": "#### Drop rows with a borough that is Not assigned.", 
            "cell_type": "markdown", 
            "metadata": {}
        }, 
        {
            "execution_count": 11, 
            "cell_type": "code", 
            "metadata": {}, 
            "outputs": [
                {
                    "execution_count": 11, 
                    "metadata": {}, 
                    "data": {
                        "text/plain": "(211, 3)"
                    }, 
                    "output_type": "execute_result"
                }
            ], 
            "source": "df_toronto.drop(df_toronto[df_toronto['Borough'] == 'Not assigned'].index, inplace=True)\ndf_toronto.shape\n#df_toronto.head()"
        }, 
        {
            "source": "#### Combine rows with the same postalcode, multiple neighborhoods should be separated with a comma", 
            "cell_type": "markdown", 
            "metadata": {}
        }, 
        {
            "execution_count": 12, 
            "cell_type": "code", 
            "metadata": {}, 
            "outputs": [
                {
                    "execution_count": 12, 
                    "metadata": {}, 
                    "data": {
                        "text/html": "<div>\n<style scoped>\n    .dataframe tbody tr th:only-of-type {\n        vertical-align: middle;\n    }\n\n    .dataframe tbody tr th {\n        vertical-align: top;\n    }\n\n    .dataframe thead th {\n        text-align: right;\n    }\n</style>\n<table border=\"1\" class=\"dataframe\">\n  <thead>\n    <tr style=\"text-align: right;\">\n      <th></th>\n      <th>PostalCode</th>\n      <th>Borough</th>\n      <th>Neighborhood</th>\n    </tr>\n  </thead>\n  <tbody>\n    <tr>\n      <th>0</th>\n      <td>M1B</td>\n      <td>Scarborough</td>\n      <td>Rouge, Malvern</td>\n    </tr>\n    <tr>\n      <th>1</th>\n      <td>M1C</td>\n      <td>Scarborough</td>\n      <td>Highland Creek, Rouge Hill, Port Union</td>\n    </tr>\n    <tr>\n      <th>2</th>\n      <td>M1E</td>\n      <td>Scarborough</td>\n      <td>Morningside, West Hill, Guildwood</td>\n    </tr>\n    <tr>\n      <th>3</th>\n      <td>M1G</td>\n      <td>Scarborough</td>\n      <td>Woburn</td>\n    </tr>\n    <tr>\n      <th>4</th>\n      <td>M1H</td>\n      <td>Scarborough</td>\n      <td>Cedarbrae</td>\n    </tr>\n  </tbody>\n</table>\n</div>", 
                        "text/plain": "  PostalCode      Borough                            Neighborhood\n0        M1B  Scarborough                          Rouge, Malvern\n1        M1C  Scarborough  Highland Creek, Rouge Hill, Port Union\n2        M1E  Scarborough       Morningside, West Hill, Guildwood\n3        M1G  Scarborough                                  Woburn\n4        M1H  Scarborough                               Cedarbrae"
                    }, 
                    "output_type": "execute_result"
                }
            ], 
            "source": "df_toronto_postalcode = df_toronto.groupby('PostalCode', as_index=False).agg(lambda x: ', '.join(set(x.dropna())))\ndf_toronto_postalcode.head()"
        }, 
        {
            "source": "#### If a cell has a borough but a Not assigned neighborhood, then the neighborhood will be the same as the borough", 
            "cell_type": "markdown", 
            "metadata": {}
        }, 
        {
            "execution_count": 13, 
            "cell_type": "code", 
            "metadata": {}, 
            "outputs": [
                {
                    "execution_count": 13, 
                    "metadata": {}, 
                    "data": {
                        "text/html": "<div>\n<style scoped>\n    .dataframe tbody tr th:only-of-type {\n        vertical-align: middle;\n    }\n\n    .dataframe tbody tr th {\n        vertical-align: top;\n    }\n\n    .dataframe thead th {\n        text-align: right;\n    }\n</style>\n<table border=\"1\" class=\"dataframe\">\n  <thead>\n    <tr style=\"text-align: right;\">\n      <th></th>\n      <th>PostalCode</th>\n      <th>Borough</th>\n      <th>Neighborhood</th>\n    </tr>\n  </thead>\n  <tbody>\n    <tr>\n      <th>85</th>\n      <td>M7A</td>\n      <td>Queen's Park</td>\n      <td>Not assigned</td>\n    </tr>\n  </tbody>\n</table>\n</div>", 
                        "text/plain": "   PostalCode       Borough  Neighborhood\n85        M7A  Queen's Park  Not assigned"
                    }, 
                    "output_type": "execute_result"
                }
            ], 
            "source": "# find row with no Neighborhood\ndf_toronto_postalcode[df_toronto_postalcode['Neighborhood'] == 'Not assigned']"
        }, 
        {
            "execution_count": 14, 
            "cell_type": "code", 
            "metadata": {}, 
            "outputs": [
                {
                    "output_type": "stream", 
                    "name": "stdout", 
                    "text": "PostalCode               M7A\nBorough         Queen's Park\nNeighborhood    Queen's Park\nName: 85, dtype: object\n"
                }
            ], 
            "source": "df_toronto_postalcode.loc[df_toronto_postalcode['Neighborhood'] == 'Not assigned', 'Neighborhood' ] = df_toronto_postalcode['Borough']\nprint(df_toronto_postalcode.loc[85])"
        }, 
        {
            "execution_count": 15, 
            "cell_type": "code", 
            "metadata": {}, 
            "outputs": [
                {
                    "execution_count": 15, 
                    "metadata": {}, 
                    "data": {
                        "text/plain": "103"
                    }, 
                    "output_type": "execute_result"
                }
            ], 
            "source": "df_toronto_postalcode.shape[0]"
        }, 
        {
            "source": "### **** END OF ASSIGNEMNT WEEK 3", 
            "cell_type": "markdown", 
            "metadata": {}
        }, 
        {
            "source": "### 2.  Data analysis to explore and cluster the neighborhoods in the city of Toronto", 
            "cell_type": "markdown", 
            "metadata": {}
        }, 
        {
            "source": "Then let's loop through the data and add 2 new column (Latitude and Longitude) to the dataframe one row at a time.", 
            "cell_type": "markdown", 
            "metadata": {}
        }
    ], 
    "metadata": {
        "kernelspec": {
            "display_name": "Python 3.6", 
            "name": "python3", 
            "language": "python"
        }, 
        "language_info": {
            "mimetype": "text/x-python", 
            "nbconvert_exporter": "python", 
            "version": "3.6.8", 
            "name": "python", 
            "file_extension": ".py", 
            "pygments_lexer": "ipython3", 
            "codemirror_mode": {
                "version": 3, 
                "name": "ipython"
            }
        }
    }, 
    "nbformat": 4
}